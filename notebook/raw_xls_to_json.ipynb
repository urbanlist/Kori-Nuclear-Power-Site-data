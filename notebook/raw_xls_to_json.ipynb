{
 "cells": [
  {
   "cell_type": "code",
   "execution_count": 83,
   "metadata": {
    "collapsed": true
   },
   "outputs": [],
   "source": [
    "import pandas as pd\n",
    "import numpy as np\n",
    "import json"
   ]
  },
  {
   "cell_type": "code",
   "execution_count": null,
   "metadata": {
    "collapsed": true
   },
   "outputs": [],
   "source": []
  },
  {
   "cell_type": "code",
   "execution_count": 60,
   "metadata": {
    "collapsed": true
   },
   "outputs": [],
   "source": [
    "# path\n",
    "xls_1st_path = '../data/origin/1st_data(20,006).xlsx'\n",
    "xls_2st_path = '../data/origin/2nd_data_OT(478).xlsx'\n",
    "xls_3st_path = '../data/origin/3rd-4th_data_last(471).xlsx'"
   ]
  },
  {
   "cell_type": "code",
   "execution_count": 61,
   "metadata": {
    "collapsed": true
   },
   "outputs": [],
   "source": [
    "xls_1st_df = pd.read_excel(xls_1st_path)\n",
    "xls_2st_df = pd.read_excel(xls_2st_path)\n",
    "xls_3st_df = pd.read_excel(xls_3st_path)"
   ]
  },
  {
   "cell_type": "code",
   "execution_count": null,
   "metadata": {
    "collapsed": false
   },
   "outputs": [],
   "source": []
  },
  {
   "cell_type": "code",
   "execution_count": 62,
   "metadata": {
    "collapsed": false
   },
   "outputs": [],
   "source": [
    "# 컬럼을 하나로 합치기\n",
    "\n",
    "for df in [xls_2st_df, xls_3st_df]:\n",
    "    for col_name in df.columns:\n",
    "        if col_name == 'PID':\n",
    "            continue\n",
    "        xls_1st_df[col_name] = pd.Series([np.nan for i in range(len(xls_1st_df))], index=xls_1st_df.index)"
   ]
  },
  {
   "cell_type": "code",
   "execution_count": null,
   "metadata": {
    "collapsed": false
   },
   "outputs": [],
   "source": []
  },
  {
   "cell_type": "code",
   "execution_count": 63,
   "metadata": {
    "collapsed": false
   },
   "outputs": [],
   "source": [
    "# 데이터 채우기\n",
    "for idx, row in xls_1st_df.iterrows():\n",
    "    for df in [xls_2st_df, xls_3st_df]:\n",
    "        for _, row_df in df.iterrows():\n",
    "            if row.PID == row_df.PID:\n",
    "                for item in row_df.iteritems():\n",
    "                    xls_1st_df.loc[idx,item[0]] = item[1]\n",
    "                break"
   ]
  },
  {
   "cell_type": "code",
   "execution_count": 114,
   "metadata": {
    "collapsed": false
   },
   "outputs": [],
   "source": [
    "xls_1st_df.to_csv('../data/converted_rawdata_1234st_about_total_user.csv', encoding='utf-8', index=False)"
   ]
  },
  {
   "cell_type": "code",
   "execution_count": null,
   "metadata": {
    "collapsed": true
   },
   "outputs": [],
   "source": []
  },
  {
   "cell_type": "code",
   "execution_count": 115,
   "metadata": {
    "collapsed": true
   },
   "outputs": [],
   "source": [
    "# 34st 데이터만 변환\n",
    "xls_3st_df = pd.read_excel(xls_3st_path)\n",
    "xls_3st_df.to_csv('../data/converted_rawdata_34st.csv', encoding='utf-8', index=False)"
   ]
  },
  {
   "cell_type": "code",
   "execution_count": null,
   "metadata": {
    "collapsed": true
   },
   "outputs": [],
   "source": []
  },
  {
   "cell_type": "code",
   "execution_count": null,
   "metadata": {
    "collapsed": true
   },
   "outputs": [],
   "source": []
  }
 ],
 "metadata": {
  "kernelspec": {
   "display_name": "Python 3",
   "language": "python",
   "name": "python3"
  },
  "language_info": {
   "codemirror_mode": {
    "name": "ipython",
    "version": 3
   },
   "file_extension": ".py",
   "mimetype": "text/x-python",
   "name": "python",
   "nbconvert_exporter": "python",
   "pygments_lexer": "ipython3",
   "version": "3.5.2"
  }
 },
 "nbformat": 4,
 "nbformat_minor": 1
}
