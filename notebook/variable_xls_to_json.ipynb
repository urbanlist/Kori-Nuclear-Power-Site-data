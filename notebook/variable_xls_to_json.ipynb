{
 "cells": [
  {
   "cell_type": "code",
   "execution_count": 2,
   "metadata": {
    "collapsed": true
   },
   "outputs": [],
   "source": [
    "import pandas as pd\n",
    "import numpy as np\n",
    "import json"
   ]
  },
  {
   "cell_type": "code",
   "execution_count": 3,
   "metadata": {
    "collapsed": true
   },
   "outputs": [],
   "source": [
    "origin_source = '../data/converted_variable.xlsx'"
   ]
  },
  {
   "cell_type": "code",
   "execution_count": 4,
   "metadata": {
    "collapsed": true
   },
   "outputs": [],
   "source": [
    "df = pd.read_excel(origin_source)"
   ]
  },
  {
   "cell_type": "code",
   "execution_count": null,
   "metadata": {
    "collapsed": false
   },
   "outputs": [],
   "source": []
  },
  {
   "cell_type": "code",
   "execution_count": 5,
   "metadata": {
    "collapsed": false
   },
   "outputs": [],
   "source": [
    "# example\n",
    "\n",
    "converted_variable = {\n",
    "    'PID': {\n",
    "        'episode': 1,\n",
    "        'var_id': 'PID',\n",
    "        'description': {\n",
    "            'main': '개인식별번호',\n",
    "            'sub': '개인식별번호'\n",
    "        },\n",
    "        'question': {\n",
    "            'main': 'Q. 현재 어느 지역에 거주하고 계십니까?',\n",
    "            'sub': '<결정을 내리는데 중요한 고려 요인 : 안전성 측면>',\n",
    "            'type': 'objective' # objective or subjective\n",
    "        },\n",
    "        'objective_statement': [\n",
    "            [1, '서울'],\n",
    "            [2, '부산']\n",
    "            #...\n",
    "        ]\n",
    "    }\n",
    "}\n",
    "converted_variable = {}"
   ]
  },
  {
   "cell_type": "code",
   "execution_count": 6,
   "metadata": {
    "collapsed": false
   },
   "outputs": [],
   "source": [
    "idx = 0\n",
    "\n",
    "for _, row in df.iterrows():\n",
    "    item = {}\n",
    "    item['episode'] = row.회차\n",
    "    item['var_id'] = row.변수명[1:-1]\n",
    "    item['description'] = {}\n",
    "    item['description']['main'] = None if row.isnull()['설명1'] else row.설명1\n",
    "    item['description']['sub'] = None if row.isnull()['설명2'] else row.설명2\n",
    "    item['question'] = {}\n",
    "    item['question']['main'] = None if row.isnull()['질문1'] else row.질문1\n",
    "    item['question']['sub'] = None if row.isnull()['질문2'] else row.질문2\n",
    "    item['question']['type'] = 'subjective' if row.isnull()['객관식_답변'] else 'objective'\n",
    "    \n",
    "    if (item['question']['type'] == 'objective'):\n",
    "        answer_num = [i for i in row.객관식_답변.split('\\n') if i != '']\n",
    "        answer_statement = [i for i in row.객관식_답변_문항.split('\\n') if i != '']\n",
    "        answer = list(zip(answer_num, answer_statement))\n",
    "        item['objective_statemet'] = answer\n",
    "    \n",
    "    converted_variable[item['var_id']] = item"
   ]
  },
  {
   "cell_type": "code",
   "execution_count": null,
   "metadata": {
    "collapsed": false
   },
   "outputs": [],
   "source": []
  },
  {
   "cell_type": "code",
   "execution_count": 7,
   "metadata": {
    "collapsed": true
   },
   "outputs": [],
   "source": [
    "# extract to json\n",
    "with open('../data/converted_variable.json', 'w', encoding='utf8') as json_file:\n",
    "    json.dump(converted_variable, json_file, ensure_ascii=False)\n",
    "    \n",
    "# extract to csv\n",
    "df.to_csv('../data/converted_variable.csv', encoding='utf-8')"
   ]
  }
 ],
 "metadata": {
  "kernelspec": {
   "display_name": "Python 3",
   "language": "python",
   "name": "python3"
  },
  "language_info": {
   "codemirror_mode": {
    "name": "ipython",
    "version": 3
   },
   "file_extension": ".py",
   "mimetype": "text/x-python",
   "name": "python",
   "nbconvert_exporter": "python",
   "pygments_lexer": "ipython3",
   "version": "3.5.2"
  }
 },
 "nbformat": 4,
 "nbformat_minor": 1
}
